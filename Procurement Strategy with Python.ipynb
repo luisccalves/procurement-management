{
 "cells": [
  {
   "cell_type": "code",
   "execution_count": 17,
   "metadata": {
    "collapsed": true
   },
   "outputs": [],
   "source": [
    "import pandas as pd\n",
    "from pulp import *\n",
    "import numpy as np\n",
    "from scipy.optimize import minimize\n",
    "import math\n",
    "import time\n",
    "from datetime import datetime"
   ]
  },
  {
   "cell_type": "markdown",
   "metadata": {
    "collapsed": true
   },
   "source": [
    "### Import Data\n",
    "#### Demand per SKU "
   ]
  },
  {
   "cell_type": "code",
   "execution_count": 18,
   "metadata": {},
   "outputs": [
    {
     "name": "stdout",
     "output_type": "stream",
     "text": [
      "9,170 total demand\n"
     ]
    },
    {
     "data": {
      "text/html": [
       "<div>\n",
       "<style scoped>\n",
       "    .dataframe tbody tr th:only-of-type {\n",
       "        vertical-align: middle;\n",
       "    }\n",
       "\n",
       "    .dataframe tbody tr th {\n",
       "        vertical-align: top;\n",
       "    }\n",
       "\n",
       "    .dataframe thead th {\n",
       "        text-align: right;\n",
       "    }\n",
       "</style>\n",
       "<table border=\"1\" class=\"dataframe\">\n",
       "  <thead>\n",
       "    <tr style=\"text-align: right;\">\n",
       "      <th></th>\n",
       "      <th>SKU</th>\n",
       "      <th>DEMAND</th>\n",
       "    </tr>\n",
       "  </thead>\n",
       "  <tbody>\n",
       "    <tr>\n",
       "      <th>0</th>\n",
       "      <td>D1</td>\n",
       "      <td>218</td>\n",
       "    </tr>\n",
       "    <tr>\n",
       "      <th>1</th>\n",
       "      <td>D2</td>\n",
       "      <td>277</td>\n",
       "    </tr>\n",
       "    <tr>\n",
       "      <th>2</th>\n",
       "      <td>D3</td>\n",
       "      <td>62</td>\n",
       "    </tr>\n",
       "    <tr>\n",
       "      <th>3</th>\n",
       "      <td>D4</td>\n",
       "      <td>142</td>\n",
       "    </tr>\n",
       "    <tr>\n",
       "      <th>4</th>\n",
       "      <td>D5</td>\n",
       "      <td>146</td>\n",
       "    </tr>\n",
       "  </tbody>\n",
       "</table>\n",
       "</div>"
      ],
      "text/plain": [
       "  SKU  DEMAND\n",
       "0  D1     218\n",
       "1  D2     277\n",
       "2  D3      62\n",
       "3  D4     142\n",
       "4  D5     146"
      ]
     },
     "execution_count": 18,
     "metadata": {},
     "output_type": "execute_result"
    }
   ],
   "source": [
    "# Demand\n",
    "df_demand = pd.read_csv('df_demandsku.csv', index_col=0)\n",
    "print(\"{:,} total demand\".format(df_demand.DEMAND.sum()))\n",
    "df_demand.head()"
   ]
  },
  {
   "cell_type": "markdown",
   "metadata": {},
   "source": [
    "#### Cost per Carton"
   ]
  },
  {
   "cell_type": "code",
   "execution_count": 19,
   "metadata": {},
   "outputs": [
    {
     "name": "stdout",
     "output_type": "stream",
     "text": [
      "186.1 average cost per carton\n"
     ]
    },
    {
     "data": {
      "text/html": [
       "<div>\n",
       "<style scoped>\n",
       "    .dataframe tbody tr th:only-of-type {\n",
       "        vertical-align: middle;\n",
       "    }\n",
       "\n",
       "    .dataframe tbody tr th {\n",
       "        vertical-align: top;\n",
       "    }\n",
       "\n",
       "    .dataframe thead th {\n",
       "        text-align: right;\n",
       "    }\n",
       "</style>\n",
       "<table border=\"1\" class=\"dataframe\">\n",
       "  <thead>\n",
       "    <tr style=\"text-align: right;\">\n",
       "      <th></th>\n",
       "      <th>SKU</th>\n",
       "      <th>COST</th>\n",
       "    </tr>\n",
       "  </thead>\n",
       "  <tbody>\n",
       "    <tr>\n",
       "      <th>0</th>\n",
       "      <td>D1</td>\n",
       "      <td>181</td>\n",
       "    </tr>\n",
       "    <tr>\n",
       "      <th>1</th>\n",
       "      <td>D2</td>\n",
       "      <td>126</td>\n",
       "    </tr>\n",
       "    <tr>\n",
       "      <th>2</th>\n",
       "      <td>D3</td>\n",
       "      <td>144</td>\n",
       "    </tr>\n",
       "    <tr>\n",
       "      <th>3</th>\n",
       "      <td>D4</td>\n",
       "      <td>238</td>\n",
       "    </tr>\n",
       "    <tr>\n",
       "      <th>4</th>\n",
       "      <td>D5</td>\n",
       "      <td>315</td>\n",
       "    </tr>\n",
       "  </tbody>\n",
       "</table>\n",
       "</div>"
      ],
      "text/plain": [
       "  SKU  COST\n",
       "0  D1   181\n",
       "1  D2   126\n",
       "2  D3   144\n",
       "3  D4   238\n",
       "4  D5   315"
      ]
     },
     "execution_count": 19,
     "metadata": {},
     "output_type": "execute_result"
    }
   ],
   "source": [
    "df_costsku = pd.read_csv('df_costsku.csv', index_col=0)\n",
    "print(\"{:,} average cost per carton\".format(df_costsku.COST.mean()))\n",
    "df_costsku.head()"
   ]
  },
  {
   "cell_type": "markdown",
   "metadata": {},
   "source": [
    "#### Transportation Costs"
   ]
  },
  {
   "cell_type": "code",
   "execution_count": 20,
   "metadata": {
    "collapsed": true
   },
   "outputs": [],
   "source": [
    "A = -0.3975\n",
    "b = 42.250"
   ]
  },
  {
   "cell_type": "markdown",
   "metadata": {},
   "source": [
    "### Build the model\n",
    "#### Define the objective function"
   ]
  },
  {
   "cell_type": "code",
   "execution_count": 21,
   "metadata": {
    "collapsed": true
   },
   "outputs": [],
   "source": [
    "# Parameters for Transportation costs\n",
    "A = -0.3975\n",
    "b = 42.250\n",
    "\n",
    "# Define the Objective Function\n",
    "# Check APMonitor Youtube Channel for a great video tutorial https://www.youtube.com/watch?v=cXHvC_FGx24\n",
    "def objective(R):\n",
    "    result = 0\n",
    "    for i in range(60):\n",
    "        # TR Costs\n",
    "        result += (A*(df_demand.loc[i,'DEMAND']/R[i]) + b) * R[i]\n",
    "        # Capital Costs\n",
    "        result += (df_demand.loc[i,'DEMAND']/(2*R[i])) * df_costsku.loc[i,'COST']*0.125\n",
    "        # Storage Costs\n",
    "        result += (df_demand.loc[i,'DEMAND']/(2*R[i])) * 12 * 480/2000\n",
    "    return result "
   ]
  },
  {
   "cell_type": "markdown",
   "metadata": {},
   "source": [
    "### Add Constraints\n",
    "#### Constraint 1: Maximum inventory"
   ]
  },
  {
   "cell_type": "code",
   "execution_count": 22,
   "metadata": {
    "collapsed": true
   },
   "outputs": [],
   "source": [
    "# Initialize constraints list\n",
    "cons = []\n",
    "# Maximum Inventory\n",
    "def constraint1(R):\n",
    "    loop = 0 \n",
    "    for i in range(60):\n",
    "        loop += R[i]\n",
    "    result = 480 - loop\n",
    "    return result\n",
    "cons.append({'type':'ineq','fun':constraint1})"
   ]
  },
  {
   "cell_type": "markdown",
   "metadata": {},
   "source": [
    "#### Constraint 2: Order Size"
   ]
  },
  {
   "cell_type": "code",
   "execution_count": 23,
   "metadata": {
    "collapsed": true
   },
   "outputs": [],
   "source": [
    "# Add Order Size Constraints\n",
    "for i in range(60):\n",
    "    # Minimum Order Quantity\n",
    "    c2 = lambda R : (df_demand.loc[i,'DEMAND']/R[i]) - 1\n",
    "    cons.append({'type':'ineq','fun':c2})\n",
    "    # Maximum Order Quantity\n",
    "    c3 = lambda R : 400 - (df_demand.loc[i,'DEMAND']/R[i]) \n",
    "    cons.append({'type':'ineq','fun':c3})"
   ]
  },
  {
   "cell_type": "markdown",
   "metadata": {},
   "source": [
    "### Solve\n",
    "#### Initial value (guessing)"
   ]
  },
  {
   "cell_type": "code",
   "execution_count": 24,
   "metadata": {},
   "outputs": [
    {
     "name": "stdout",
     "output_type": "stream",
     "text": [
      "$63,206.7 total cost for initial guessing\n"
     ]
    }
   ],
   "source": [
    "# All SKU replenished 1 time\n",
    "R0 = [2 for i in range(60)]\n",
    "print(\"${:,} total cost for initial guessing\".format(objective(R0).round(1)))"
   ]
  },
  {
   "cell_type": "markdown",
   "metadata": {},
   "source": [
    "#### Bounds"
   ]
  },
  {
   "cell_type": "code",
   "execution_count": null,
   "metadata": {
    "collapsed": true
   },
   "outputs": [],
   "source": [
    "# Bound vector\n",
    "b_vector = (1, 365)\n",
    "bnds = tuple([b_vector for i in range(60)])"
   ]
  },
  {
   "cell_type": "markdown",
   "metadata": {},
   "source": [
    "---"
   ]
  },
  {
   "cell_type": "markdown",
   "metadata": {},
   "source": [
    "### Solve with 100 iterations"
   ]
  },
  {
   "cell_type": "code",
   "execution_count": null,
   "metadata": {},
   "outputs": [],
   "source": [
    "start = time.time()\n",
    "sol = minimize(objective, R0, method = 'SLSQP', bounds=bnds, constraints = cons, options={'maxiter': 100})\n",
    "exec_time = (time.time()-start)\n",
    "print(\"Execution time is {}s for 100 iterations\".format(exec_time))"
   ]
  },
  {
   "cell_type": "markdown",
   "metadata": {},
   "source": [
    "#### Solution values"
   ]
  },
  {
   "cell_type": "code",
   "execution_count": null,
   "metadata": {
    "collapsed": true
   },
   "outputs": [],
   "source": [
    "# Initial solution\n",
    "sol_init = sol.x\n",
    "# Take the floor of the solution to have an integer as number of replenishment and never exceed stock limit \n",
    "sol_final = [math.floor(i) for i in sol_init]"
   ]
  },
  {
   "cell_type": "markdown",
   "metadata": {},
   "source": [
    "#### Solution Results"
   ]
  },
  {
   "cell_type": "code",
   "execution_count": null,
   "metadata": {},
   "outputs": [],
   "source": [
    "print(('''For {} Iterations\n",
    "-> Initial Solution: ${:,}\n",
    "-> Integer Solution: ${:,}\n",
    "''').format(100, sol.fun.round(1), objective(sol_final).round(1)))"
   ]
  },
  {
   "cell_type": "code",
   "execution_count": null,
   "metadata": {},
   "outputs": [],
   "source": [
    "print(\"Maximum inventory level with continuous number of replenishment: {}\".format(sum(sol_init)))\n",
    "print(\"Maximum inventory level with continuous number of replenishment: {}\".format(sum(sol_final)))"
   ]
  },
  {
   "cell_type": "markdown",
   "metadata": {},
   "source": [
    "---"
   ]
  },
  {
   "cell_type": "markdown",
   "metadata": {},
   "source": [
    "### Solve with 500 iterations"
   ]
  },
  {
   "cell_type": "code",
   "execution_count": null,
   "metadata": {},
   "outputs": [],
   "source": [
    "start = time.time()\n",
    "sol = minimize(objective, R0, method = 'SLSQP', bounds=bnds, constraints = cons, options={'maxiter': 500})\n",
    "exec_time = (time.time()-start)\n",
    "print(\"Execution time is {}s for 500 iterations\".format(exec_time))"
   ]
  },
  {
   "cell_type": "markdown",
   "metadata": {},
   "source": [
    "#### Solution values"
   ]
  },
  {
   "cell_type": "code",
   "execution_count": null,
   "metadata": {
    "collapsed": true
   },
   "outputs": [],
   "source": [
    "# Initial solution\n",
    "sol_init2 = sol.x\n",
    "# Take the ceiling of the solution to have an integer as number of replenishment\n",
    "sol_final2 = [math.ceil(i) for i in sol_init2]"
   ]
  },
  {
   "cell_type": "markdown",
   "metadata": {},
   "source": [
    "#### Solution Results"
   ]
  },
  {
   "cell_type": "code",
   "execution_count": null,
   "metadata": {},
   "outputs": [],
   "source": [
    "print(('''For {} Iterations\n",
    "-> Initial Solution: ${:,}\n",
    "-> Integer Solution: ${:,}\n",
    "''').format(100, sol.fun.round(1), objective(sol_final2).round(1)))"
   ]
  },
  {
   "cell_type": "code",
   "execution_count": null,
   "metadata": {
    "collapsed": true
   },
   "outputs": [],
   "source": []
  }
 ],
 "metadata": {
  "kernelspec": {
   "display_name": "Python 3",
   "language": "python",
   "name": "python3"
  },
  "language_info": {
   "codemirror_mode": {
    "name": "ipython",
    "version": 3
   },
   "file_extension": ".py",
   "mimetype": "text/x-python",
   "name": "python",
   "nbconvert_exporter": "python",
   "pygments_lexer": "ipython3",
   "version": "3.6.1"
  }
 },
 "nbformat": 4,
 "nbformat_minor": 2
}
